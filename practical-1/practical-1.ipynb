{
 "cells": [
  {
   "cell_type": "markdown",
   "metadata": {},
   "source": [
    "# Practical 1\n",
    "# From linear to non-linear models with Tensorflow and MNIST\n",
    "\n",
    "### Introduction\n",
    "\n",
    "In this practical, we will build a linear and non-linear classification model using Tensorflow and the MNIST dataset. MNIST consists of 60 000 grayscale training images of handwritten digits (i.e., 0, 1, 2, ..., 9). The test set consists of 10 000 images that we want to classify correctly with our model. More detail on the dataset can be viewed [here](https://en.wikipedia.org/wiki/MNIST_database).\n",
    "\n",
    "### Learning objectives\n",
    "* Implement a linear classifier using the Tensorflow math libraries and the MNIST image dataset.\n",
    "* Implement a non-linear classifier by adding one hidden layer with non-linear activation units. \n",
    "* Understand basic Tensorflow objects, operations and graphs.\n",
    "* Understand *cross entropy loss*, *activation units*, the *softmax* layer, and basic knowledge of *gradient descent* optimisation.\n",
    "* Understand the hyperparameters associated with a linear and simple non-linear network.\n",
    "-------------------------------------------------------------------------------------------------------------------------\n",
    "### What is expected of you?\n",
    "\n",
    "#### Part I (linear model):\n",
    "1. Step through the initial code and make sure the MNIST data downloaded successfully. Make sure you understand why the categorical output variable (the label) is *one-hot encoded*.\n",
    "2. Use Tensorflow placeholders, variables and arithmetic operators to create a graph for a linear classifier. Make sure all tensor dimensions are configured correctly. \n",
    "3. Create a loss function using the `softmax_cross_entropy_with_logits_v2` function in Tensorflow. Make sure you understand what this function is doing (more on this [here](https://www.tensorflow.org/api_docs/python/tf/nn/softmax_cross_entropy_with_logits_v2)). Note that we could have written the full equation for the loss function, however the built-in Tensorflow function is numerically more stable (more on this [here](https://en.wikipedia.org/wiki/Cross_entropy)).\n",
    "4. Use the `GradientDescentOptimizer` optimiser in Tensorflow to minimise the cross entropy loss. Make sure you understand what this function is doing (more on this [here](https://www.tensorflow.org/api_docs/python/tf/train/GradientDescentOptimizer)).\n",
    "5. Create an appropriate evaluation metric that will help you determine the accuracy of your classifier.\n",
    "6. Create a training loop that cycles through random batches of the training data. We also want to be able to cycle through the entire dataset a number of times (more on this [here](https://stackoverflow.com/questions/4752626/epoch-vs-iteration-when-training-neural-networks)).\n",
    "7. Document all the hyperparameter values in your experiment and plot the **training set** cross entropy loss and **performance** (based on the evaluation metric you selected) of the linear model.\n",
    "8. Tweak the batch size and learning rate and document your observations.\n",
    "\n",
    "#### Part II (non-linear model):\n",
    "1. Modify the graph to make the classifier non-linear by adding a hidden layer (of size 100 nodes) with non-linear activations. Use *rectified linear units* to introduce the pointwise nonlinearity (more on this [here](https://www.tensorflow.org/api_docs/python/tf/nn/relu)). \n",
    "2. Document all the hyperparameters in your experiment, and the model performance.\n",
    "3. Tweak the hyperparameters and document your observations.\n",
    "4. Why do you think this exercise is useful to understand in the context of smart grid technology?"
   ]
  },
  {
   "cell_type": "code",
   "execution_count": 2,
   "metadata": {},
   "outputs": [
    {
     "name": "stdout",
     "output_type": "stream",
     "text": [
      "Extracting MNIST_data/train-images-idx3-ubyte.gz\n",
      "Extracting MNIST_data/train-labels-idx1-ubyte.gz\n",
      "Extracting MNIST_data/t10k-images-idx3-ubyte.gz\n",
      "Extracting MNIST_data/t10k-labels-idx1-ubyte.gz\n"
     ]
    },
    {
     "data": {
      "image/png": "[encoded data removed]",
      "text/plain": [
       "<Figure size 1800x216 with 10 Axes>"
      ]
     },
     "metadata": {},
     "output_type": "display_data"
    }
   ],
   "source": [
    "%matplotlib inline\n",
    "\n",
    "import numpy as np\n",
    "import tensorflow as tf\n",
    "import matplotlib.pyplot as plt\n",
    "from tensorflow.examples.tutorials.mnist import input_data\n",
    "\n",
    "# this function is for visualising the MNIST data #\n",
    "def display_mnist_images(gens, num_images):\n",
    "    plt.rcParams['image.interpolation'] = 'nearest'\n",
    "    plt.rcParams['image.cmap'] = 'gray'\n",
    "    fig, axs = plt.subplots(1, num_images, figsize=(25, 3))\n",
    "    for i in range(num_images):\n",
    "        reshaped_img = (gens[i].reshape(28, 28) * 255).astype(np.uint8)\n",
    "        axs.flat[i].imshow(reshaped_img)\n",
    "    plt.show()\n",
    "\n",
    "# download MNIST dataset #\n",
    "mnist = input_data.read_data_sets(\"MNIST_data/\", one_hot=True)\n",
    "\n",
    "# visualize random sample of MNIST images #\n",
    "batch_xs, batch_ys = mnist.train.next_batch(10)\n",
    "list_of_images = np.split(batch_xs, 10)\n",
    "display_mnist_images(list_of_images, 10)"
   ]
  },
  {
   "cell_type": "code",
   "execution_count": 1,
   "metadata": {},
   "outputs": [],
   "source": [
    "x_dim, train_examples, n_classes = mnist.train.images.shape[1], mnist.train.num_examples, mnist.train.labels.shape[1]\n",
    "\n",
    "######################################\n",
    "# define the model (build the graph) #\n",
    "######################################\n",
    "\n",
    "x = \n",
    "W = \n",
    "b = \n",
    "y = \n",
    "y_ = \n",
    "\n",
    "########################\n",
    "# define loss function #\n",
    "########################\n",
    "\n",
    "cross_entropy_loss = \n",
    "\n",
    "learning_rate = \n",
    "\n",
    "train_step = \n",
    "\n",
    "###########################\n",
    "# define model evaluation #\n",
    "###########################\n",
    "\n",
    "classification_accuracy = \n",
    "\n",
    "#########################\n",
    "# define training cycle #\n",
    "#########################\n",
    "\n",
    "num_epochs = 50\n",
    "batch_size = 20\n",
    "\n",
    "# initializing the variables before starting the session #\n",
    "init = tf.global_variables_initializer()\n",
    "\n",
    "# launch the graph in a session (use the session as a context manager) #\n",
    "with tf.Session() as sess:\n",
    "    # run session #\n",
    "    sess.run(init)\n",
    "    # start main training cycle #\n",
    "    for epoch in range(num_epochs):\n",
    "        avg_cost = 0.\n",
    "        avg_acc = 0.\n",
    "        total_batch = int(mnist.train.num_examples / batch_size)\n",
    "        # loop over all batches #\n",
    "        for i in range(total_batch):\n",
    "            batch_x, batch_y = mnist.train.next_batch(batch_size)\n",
    "            # run optimization op (backprop), cost op and accuracy op (to get training losses) #\n",
    "            _, c, a = sess.run([train_step, cross_entropy_loss, classification_accuracy], feed_dict={x: batch_x, y: batch_y})\n",
    "            # compute avg training loss and avg training accuracy #\n",
    "            avg_cost += c / total_batch\n",
    "            avg_acc += a / total_batch\n",
    "        # display logs per epoch step #\n",
    "        if epoch % 1 == 0:\n",
    "            print(\"Epoch {}: cross-entropy-loss = {:.4f}, training-accuracy = {:.3f}%\".format(epoch + 1, avg_cost, avg_acc * 100))\n",
    "    print(\"Optimization Finished!\")\n",
    "    # calculate test set accuracy #\n",
    "    test_accuracy = classification_accuracy.eval({x: mnist.test.images, y: mnist.test.labels})\n",
    "    print(\"Accuracy on test set = {:.3f}%\".format(test_accuracy * 100))"
   ]
  },
  {
   "cell_type": "code",
   "execution_count": null,
   "metadata": {},
   "outputs": [],
   "source": []
  }
 ],
 "metadata": {
  "kernelspec": {
   "display_name": "Python 3",
   "language": "python",
   "name": "python3"
  },
  "language_info": {
   "codemirror_mode": {
    "name": "ipython",
    "version": 3
   },
   "file_extension": ".py",
   "mimetype": "text/x-python",
   "name": "python",
   "nbconvert_exporter": "python",
   "pygments_lexer": "ipython3",
   "version": "3.6.1"
  }
 },
 "nbformat": 4,
 "nbformat_minor": 2
}
